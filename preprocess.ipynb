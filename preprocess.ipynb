{
 "cells": [
  {
   "cell_type": "code",
   "execution_count": 2,
   "metadata": {},
   "outputs": [],
   "source": [
    "from preprocess import preprocess"
   ]
  },
  {
   "cell_type": "code",
   "execution_count": null,
   "metadata": {
    "scrolled": true
   },
   "outputs": [
    {
     "name": "stdout",
     "output_type": "stream",
     "text": [
      "start preprocess\n",
      "start at 2019/10/27 09:06:21\n",
      "920 total, 0 processed\n",
      "1 process /home/david/Desktop/data/lung/data/val_subset02/LKDS-00542.mhd\n",
      "{'seriesuid': 'LKDS-00542', 'shape': (512, 512, 325), 'origin': array([-148.686, -294.186,   75.   ]), 'spacing': array([0.628906, 0.628906, 0.7     ]), 'pixels': 12617924, 'cover_ratio': 0.14810326209435096, 'process_duration': 24.425592184066772}\n",
      "2 process /home/david/Desktop/data/lung/data/val_subset02/LKDS-00464.mhd\n",
      "{'seriesuid': 'LKDS-00464', 'shape': (512, 512, 443), 'origin': array([-191.11, -345.11, 1439.8 ]), 'spacing': array([0.779297, 0.779297, 0.6     ]), 'pixels': 13253749, 'cover_ratio': 0.11412875862207693, 'process_duration': 32.67455291748047}\n",
      "3 process /home/david/Desktop/data/lung/data/val_subset02/LKDS-00560.mhd\n",
      "{'seriesuid': 'LKDS-00560', 'shape': (512, 512, 316), 'origin': array([-200.5, -194. ,  -37.5]), 'spacing': array([0.757812, 0.757812, 1.25    ]), 'pixels': 12142707, 'cover_ratio': 0.14658465566514414, 'process_duration': 24.63222885131836}\n",
      "4 process /home/david/Desktop/data/lung/data/val_subset02/LKDS-00387.mhd\n",
      "{'seriesuid': 'LKDS-00387', 'shape': (512, 512, 481), 'origin': array([-183.1, -180. ,   14.5]), 'spacing': array([0.703125, 0.703125, 0.625   ]), 'pixels': 17332444, 'cover_ratio': 0.13745951503825038, 'process_duration': 38.54666447639465}\n",
      "5 process /home/david/Desktop/data/lung/data/val_subset02/LKDS-00522.mhd\n",
      "{'seriesuid': 'LKDS-00522', 'shape': (512, 512, 259), 'origin': array([-207.11, -337.11,  -16.4 ]), 'spacing': array([0.779297, 0.779297, 1.      ]), 'pixels': 11151931, 'cover_ratio': 0.16425189456424197, 'process_duration': 22.923256874084473}\n",
      "6 process /home/david/Desktop/data/lung/data/val_subset02/LKDS-00554.mhd\n",
      "{'seriesuid': 'LKDS-00554', 'shape': (512, 512, 289), 'origin': array([-204.5,  -25.5,  -49.7]), 'spacing': array([0.767578, 0.767578, 1.      ]), 'pixels': 13336716, 'cover_ratio': 0.1760399102339695, 'process_duration': 25.71095609664917}\n",
      "7 process /home/david/Desktop/data/lung/data/val_subset02/LKDS-00483.mhd\n",
      "{'seriesuid': 'LKDS-00483', 'shape': (512, 512, 265), 'origin': array([-177.6, -175. ,   -6. ]), 'spacing': array([0.683594, 0.683594, 1.25    ]), 'pixels': 11985849, 'cover_ratio': 0.17253730342073262, 'process_duration': 22.072911262512207}\n",
      "8 process /home/david/Desktop/data/lung/data/val_subset02/LKDS-00404.mhd\n",
      "{'seriesuid': 'LKDS-00404', 'shape': (512, 512, 355), 'origin': array([-219.385,  -66.4  ,  214.92 ]), 'spacing': array([0.869141, 0.869141, 1.      ]), 'pixels': 23994263, 'cover_ratio': 0.25783337875151296, 'process_duration': 24.428539037704468}\n",
      "9 process /home/david/Desktop/data/lung/data/val_subset02/LKDS-00532.mhd\n",
      "{'seriesuid': 'LKDS-00532', 'shape': (512, 512, 426), 'origin': array([-182.226, -199.804, -590.   ]), 'spacing': array([0.782, 0.782, 0.8  ]), 'pixels': 11351242, 'cover_ratio': 0.10164683525551094, 'process_duration': 28.150078058242798}\n",
      "10 process /home/david/Desktop/data/lung/data/val_subset02/LKDS-00524.mhd\n",
      "{'seriesuid': 'LKDS-00524', 'shape': (512, 512, 287), 'origin': array([-182. ,  -28. ,  482.4]), 'spacing': array([0.683594, 0.683594, 1.      ]), 'pixels': 13058336, 'cover_ratio': 0.17356654575892858, 'process_duration': 20.720113277435303}\n",
      "11 process /home/david/Desktop/data/lung/data/val_subset02/LKDS-00570.mhd\n",
      "{'seriesuid': 'LKDS-00570', 'shape': (512, 512, 473), 'origin': array([-188. ,   -5. ,   54.1]), 'spacing': array([0.683594, 0.683594, 0.625   ]), 'pixels': 21985237, 'cover_ratio': 0.17730871769136908, 'process_duration': 37.91857552528381}\n",
      "12 process /home/david/Desktop/data/lung/data/val_subset02/LKDS-00468.mhd\n",
      "{'seriesuid': 'LKDS-00468', 'shape': (512, 512, 389), 'origin': array([-162.707, -317.207,   63.   ]), 'spacing': array([0.585938, 0.585938, 0.7     ]), 'pixels': 19892429, 'cover_ratio': 0.19507350774534563, 'process_duration': 32.44089937210083}\n",
      "13 process /home/david/Desktop/data/lung/data/val_subset02/LKDS-00419.mhd\n",
      "{'seriesuid': 'LKDS-00419', 'shape': (512, 512, 429), 'origin': array([-175.155, -313.655, -255.   ]), 'spacing': array([0.689453, 0.689453, 0.7     ]), 'pixels': 11404388, 'cover_ratio': 0.10140859608327871, 'process_duration': 39.69933271408081}\n",
      "14 process /home/david/Desktop/data/lung/data/val_subset02/LKDS-00539.mhd\n",
      "{'seriesuid': 'LKDS-00539', 'shape': (512, 512, 300), 'origin': array([-171.175, -318.675,  -76.5  ]), 'spacing': array([0.650391, 0.650391, 1.      ]), 'pixels': 17875101, 'cover_ratio': 0.22729366302490234, 'process_duration': 26.505703449249268}\n",
      "15 process /home/david/Desktop/data/lung/data/val_subset02/LKDS-00588.mhd\n",
      "{'seriesuid': 'LKDS-00588', 'shape': (512, 512, 521), 'origin': array([-185. ,   -5. ,  -69.8]), 'spacing': array([0.683594, 0.683594, 0.625   ]), 'pixels': 23385136, 'cover_ratio': 0.17122306018324135, 'process_duration': 44.539990186691284}\n",
      "16 process /home/david/Desktop/data/lung/data/val_subset02/LKDS-00584.mhd\n",
      "{'seriesuid': 'LKDS-00584', 'shape': (512, 512, 275), 'origin': array([-159.5,    3.5,  727. ]), 'spacing': array([0.650391, 0.650391, 1.      ]), 'pixels': 11039224, 'cover_ratio': 0.1531319912997159, 'process_duration': 18.521777629852295}\n",
      "17 process /home/david/Desktop/data/lung/data/val_subset02/LKDS-00505.mhd\n",
      "{'seriesuid': 'LKDS-00505', 'shape': (512, 512, 365), 'origin': array([-213.498,  -58.2  ,  291.64 ]), 'spacing': array([0.798828, 0.798828, 1.      ]), 'pixels': 12289929, 'cover_ratio': 0.12844481794801477, 'process_duration': 25.105836391448975}\n",
      "18 process /home/david/Desktop/data/lung/data/val_subset02/LKDS-00415.mhd\n",
      "{'seriesuid': 'LKDS-00415', 'shape': (512, 512, 449), 'origin': array([-164.161, -306.661, -183.5  ]), 'spacing': array([0.677734, 0.677734, 0.7     ]), 'pixels': 16377314, 'cover_ratio': 0.13914141410708694, 'process_duration': 31.18238353729248}\n",
      "19 process /home/david/Desktop/data/lung/data/val_subset02/LKDS-00508.mhd\n",
      "{'seriesuid': 'LKDS-00508', 'shape': (512, 512, 337), 'origin': array([-188.316 ,  -26.2632, -249.7   ]), 'spacing': array([0.683594, 0.683594, 1.      ]), 'pixels': 15040183, 'cover_ratio': 0.17024850137863384, 'process_duration': 27.457308292388916}\n",
      "20 process /home/david/Desktop/data/lung/data/val_subset02/LKDS-00430.mhd\n",
      "{'seriesuid': 'LKDS-00430', 'shape': (512, 512, 310), 'origin': array([-170. ,   -5. , -576.1]), 'spacing': array([0.683594, 0.683594, 1.      ]), 'pixels': 20810258, 'cover_ratio': 0.25608011061145414, 'process_duration': 22.927823543548584}\n",
      "21 process /home/david/Desktop/data/lung/data/val_subset02/LKDS-00484.mhd\n",
      "{'seriesuid': 'LKDS-00484', 'shape': (512, 512, 206), 'origin': array([-184.4, -180. ,   25. ]), 'spacing': array([0.703125, 0.703125, 1.25    ]), 'pixels': 8849421, 'cover_ratio': 0.1638731169469148, 'process_duration': 15.461180210113525}\n",
      "22 process /home/david/Desktop/data/lung/data/val_subset02/LKDS-00425.mhd\n",
      "{'seriesuid': 'LKDS-00425', 'shape': (512, 512, 269), 'origin': array([-181.2, -185. ,    3.5]), 'spacing': array([0.722656, 0.722656, 1.25    ]), 'pixels': 11618190, 'cover_ratio': 0.16475790938480192, 'process_duration': 18.625603199005127}\n",
      "23 process /home/david/Desktop/data/lung/data/val_subset02/LKDS-00552.mhd\n",
      "{'seriesuid': 'LKDS-00552', 'shape': (512, 512, 310), 'origin': array([-162.957, -165.301, -460.   ]), 'spacing': array([0.647, 0.647, 1.   ]), 'pixels': 15761336, 'cover_ratio': 0.19395072690902218, 'process_duration': 21.521342754364014}\n",
      "24 process /home/david/Desktop/data/lung/data/val_subset02/LKDS-00432.mhd\n",
      "{'seriesuid': 'LKDS-00432', 'shape': (512, 512, 637), 'origin': array([-168.4 , -180.  ,  -14.25]), 'spacing': array([0.703125, 0.703125, 0.625   ]), 'pixels': 14657259, 'cover_ratio': 0.08777551935456424, 'process_duration': 46.18997025489807}\n",
      "25 process /home/david/Desktop/data/lung/data/val_subset02/LKDS-00391.mhd\n",
      "{'seriesuid': 'LKDS-00391', 'shape': (512, 512, 553), 'origin': array([-182. ,   -4. , 1019.3]), 'spacing': array([0.683594, 0.683594, 0.625   ]), 'pixels': 20816041, 'cover_ratio': 0.1435929379454573, 'process_duration': 39.19036054611206}\n",
      "26 process /home/david/Desktop/data/lung/data/val_subset02/LKDS-00557.mhd\n",
      "{'seriesuid': 'LKDS-00557', 'shape': (768, 768, 294), 'origin': array([-172.      ,  -26.      ,   -0.599976]), 'spacing': array([0.455729, 0.455729, 1.      ]), 'pixels': 30668987, 'cover_ratio': 0.17686001639968052, 'process_duration': 46.355770111083984}\n",
      "27 process /home/david/Desktop/data/lung/data/val_subset02/LKDS-00437.mhd\n"
     ]
    },
    {
     "name": "stdout",
     "output_type": "stream",
     "text": [
      "{'seriesuid': 'LKDS-00437', 'shape': (512, 512, 522), 'origin': array([-182.112, -331.612, -156.5  ]), 'spacing': array([0.775391, 0.775391, 0.7     ]), 'pixels': 13907052, 'cover_ratio': 0.10163063838564117, 'process_duration': 36.99241781234741}\n",
      "28 process /home/david/Desktop/data/lung/data/val_subset02/LKDS-00411.mhd\n",
      "{'seriesuid': 'LKDS-00411', 'shape': (512, 512, 311), 'origin': array([-174. ,   10. ,  180.4]), 'spacing': array([0.683594, 0.683594, 1.      ]), 'pixels': 17653233, 'cover_ratio': 0.21653292493421547, 'process_duration': 21.799143075942993}\n",
      "29 process /home/david/Desktop/data/lung/data/val_subset02/LKDS-00433.mhd\n",
      "{'seriesuid': 'LKDS-00433', 'shape': (512, 512, 241), 'origin': array([-174.8 , -194.5 ,   45.25]), 'spacing': array([0.759766, 0.759766, 1.25    ]), 'pixels': 5415596, 'cover_ratio': 0.08572140768850493, 'process_duration': 16.093425273895264}\n",
      "30 process /home/david/Desktop/data/lung/data/val_subset02/LKDS-00538.mhd\n",
      "{'seriesuid': 'LKDS-00538', 'shape': (512, 512, 401), 'origin': array([-249. , -120. ,  603.1]), 'spacing': array([0.949219, 0.949219, 1.      ]), 'pixels': 10282973, 'cover_ratio': 0.09782151866732096, 'process_duration': 28.089267015457153}\n",
      "31 process /home/david/Desktop/data/lung/data/val_subset02/LKDS-00401.mhd\n"
     ]
    }
   ],
   "source": [
    "preprocess()"
   ]
  },
  {
   "cell_type": "code",
   "execution_count": null,
   "metadata": {
    "collapsed": true
   },
   "outputs": [],
   "source": []
  }
 ],
 "metadata": {
  "kernelspec": {
   "display_name": "Python 3",
   "language": "python",
   "name": "python3"
  },
  "language_info": {
   "codemirror_mode": {
    "name": "ipython",
    "version": 3
   },
   "file_extension": ".py",
   "mimetype": "text/x-python",
   "name": "python",
   "nbconvert_exporter": "python",
   "pygments_lexer": "ipython3",
   "version": "3.7.4"
  }
 },
 "nbformat": 4,
 "nbformat_minor": 2
}
